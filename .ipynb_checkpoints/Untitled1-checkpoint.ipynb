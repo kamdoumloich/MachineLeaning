{
 "cells": [
  {
   "cell_type": "code",
   "execution_count": 3,
   "id": "4159ee3a",
   "metadata": {},
   "outputs": [],
   "source": [
    "myList=[1, 23, 29, 30,\"bjr\", \"a\",1]"
   ]
  },
  {
   "cell_type": "code",
   "execution_count": 4,
   "id": "61f80771",
   "metadata": {},
   "outputs": [
    {
     "data": {
      "text/plain": [
       "[1, 23, 29, 30, 'bjr', 'a', 1]"
      ]
     },
     "execution_count": 4,
     "metadata": {},
     "output_type": "execute_result"
    }
   ],
   "source": [
    "myList"
   ]
  },
  {
   "cell_type": "code",
   "execution_count": 5,
   "id": "226368ac",
   "metadata": {},
   "outputs": [
    {
     "data": {
      "text/plain": [
       "[3, 3, 12, 71, 93]"
      ]
     },
     "execution_count": 5,
     "metadata": {},
     "output_type": "execute_result"
    }
   ],
   "source": [
    "List = [3, 71, 93, 12,3]\n",
    "sorted(List)"
   ]
  },
  {
   "cell_type": "code",
   "execution_count": 6,
   "id": "c75e7192",
   "metadata": {},
   "outputs": [
    {
     "data": {
      "text/plain": [
       "2"
      ]
     },
     "execution_count": 6,
     "metadata": {},
     "output_type": "execute_result"
    }
   ],
   "source": [
    "List.count(3)\n"
   ]
  },
  {
   "cell_type": "code",
   "execution_count": 8,
   "id": "51d2d3b5",
   "metadata": {},
   "outputs": [
    {
     "data": {
      "text/plain": [
       "[3, 71, 93, 'a', 12, 3]"
      ]
     },
     "execution_count": 8,
     "metadata": {},
     "output_type": "execute_result"
    }
   ],
   "source": [
    "List.insert(3,\"a\")\n",
    "List"
   ]
  },
  {
   "cell_type": "code",
   "execution_count": 17,
   "id": "ac229450",
   "metadata": {},
   "outputs": [],
   "source": [
    "list = [1, 1, 2, 3, 4, 4, 5, 1]\n",
    "list1 = list[:3]\n",
    "list2 = list[3:]\n"
   ]
  },
  {
   "cell_type": "code",
   "execution_count": 18,
   "id": "4918f25a",
   "metadata": {},
   "outputs": [
    {
     "data": {
      "text/plain": [
       "[1, 1, 2]"
      ]
     },
     "execution_count": 18,
     "metadata": {},
     "output_type": "execute_result"
    }
   ],
   "source": [
    "list1"
   ]
  },
  {
   "cell_type": "code",
   "execution_count": 19,
   "id": "a85f281c",
   "metadata": {},
   "outputs": [
    {
     "data": {
      "text/plain": [
       "[3, 4, 4, 5, 1]"
      ]
     },
     "execution_count": 19,
     "metadata": {},
     "output_type": "execute_result"
    }
   ],
   "source": [
    "list2"
   ]
  },
  {
   "cell_type": "code",
   "execution_count": null,
   "id": "745678cf",
   "metadata": {},
   "outputs": [],
   "source": []
  }
 ],
 "metadata": {
  "kernelspec": {
   "display_name": "Python 3",
   "language": "python",
   "name": "python3"
  },
  "language_info": {
   "codemirror_mode": {
    "name": "ipython",
    "version": 3
   },
   "file_extension": ".py",
   "mimetype": "text/x-python",
   "name": "python",
   "nbconvert_exporter": "python",
   "pygments_lexer": "ipython3",
   "version": "3.8.8"
  }
 },
 "nbformat": 4,
 "nbformat_minor": 5
}
